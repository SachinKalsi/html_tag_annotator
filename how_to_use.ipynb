{
 "cells": [
  {
   "cell_type": "code",
   "execution_count": 1,
   "metadata": {},
   "outputs": [],
   "source": [
    "import sqlite3\n",
    "import pandas as pd"
   ]
  },
  {
   "cell_type": "code",
   "execution_count": 2,
   "metadata": {},
   "outputs": [],
   "source": [
    "def get_sqlite_df(db_file_name):\n",
    "    conn = sqlite3.connect(db_file_name)\n",
    "    cur = conn.cursor()\n",
    "    get_query = \"select url, html, selected_contents, selected_contents_text from annotated_data\"\n",
    "    cur.execute(get_query)\n",
    "    data = cur.fetchall()\n",
    "    conn.close()\n",
    "    url_meta_df = pd.DataFrame(data, \n",
    "                           columns=['url', 'html', 'selected_contents', 'selected_contents_text'])\n",
    "\n",
    "    return url_meta_df\n"
   ]
  },
  {
   "cell_type": "code",
   "execution_count": 3,
   "metadata": {},
   "outputs": [
    {
     "data": {
      "text/plain": [
       "(1, 4)"
      ]
     },
     "execution_count": 3,
     "metadata": {},
     "output_type": "execute_result"
    }
   ],
   "source": [
    "db_file_name = \"published_date_data.sqlite\"\n",
    "df = get_sqlite_df(db_file_name)\n",
    "df.shape"
   ]
  },
  {
   "cell_type": "code",
   "execution_count": 4,
   "metadata": {},
   "outputs": [
    {
     "data": {
      "text/html": [
       "<div>\n",
       "<style scoped>\n",
       "    .dataframe tbody tr th:only-of-type {\n",
       "        vertical-align: middle;\n",
       "    }\n",
       "\n",
       "    .dataframe tbody tr th {\n",
       "        vertical-align: top;\n",
       "    }\n",
       "\n",
       "    .dataframe thead th {\n",
       "        text-align: right;\n",
       "    }\n",
       "</style>\n",
       "<table border=\"1\" class=\"dataframe\">\n",
       "  <thead>\n",
       "    <tr style=\"text-align: right;\">\n",
       "      <th></th>\n",
       "      <th>url</th>\n",
       "      <th>html</th>\n",
       "      <th>selected_contents</th>\n",
       "      <th>selected_contents_text</th>\n",
       "    </tr>\n",
       "  </thead>\n",
       "  <tbody>\n",
       "    <tr>\n",
       "      <th>0</th>\n",
       "      <td>https://www.indiatimes.com/trending/social-rel...</td>\n",
       "      <td>&lt;html lang=\"en\"&gt;&lt;head&gt;&lt;title&gt;People Are Asking...</td>\n",
       "      <td>&lt;span class=\"author-strip-date font-12 custom_...</td>\n",
       "      <td>Updated on Apr 13, 2021, 16:49 IST</td>\n",
       "    </tr>\n",
       "  </tbody>\n",
       "</table>\n",
       "</div>"
      ],
      "text/plain": [
       "                                                 url  \\\n",
       "0  https://www.indiatimes.com/trending/social-rel...   \n",
       "\n",
       "                                                html  \\\n",
       "0  <html lang=\"en\"><head><title>People Are Asking...   \n",
       "\n",
       "                                   selected_contents  \\\n",
       "0  <span class=\"author-strip-date font-12 custom_...   \n",
       "\n",
       "               selected_contents_text  \n",
       "0  Updated on Apr 13, 2021, 16:49 IST  "
      ]
     },
     "execution_count": 4,
     "metadata": {},
     "output_type": "execute_result"
    }
   ],
   "source": [
    "df.head()"
   ]
  },
  {
   "cell_type": "code",
   "execution_count": 5,
   "metadata": {},
   "outputs": [
    {
     "data": {
      "text/plain": [
       "'<span class=\"author-strip-date font-12 custom_selected\">Updated on Apr 13, 2021, 16:49 IST</span>'"
      ]
     },
     "execution_count": 5,
     "metadata": {},
     "output_type": "execute_result"
    }
   ],
   "source": [
    "df.loc[0]['selected_contents']"
   ]
  },
  {
   "cell_type": "code",
   "execution_count": 6,
   "metadata": {
    "scrolled": true
   },
   "outputs": [],
   "source": [
    "from bs4 import BeautifulSoup\n",
    "soup = BeautifulSoup(df.loc[0]['html'])"
   ]
  },
  {
   "cell_type": "code",
   "execution_count": 7,
   "metadata": {},
   "outputs": [
    {
     "data": {
      "text/plain": [
       "[<span class=\"author-strip-date font-12 custom_selected\">Updated on Apr 13, 2021, 16:49 IST</span>]"
      ]
     },
     "execution_count": 7,
     "metadata": {},
     "output_type": "execute_result"
    }
   ],
   "source": [
    "tag_name_tobe_searched = \"span\"\n",
    "annotator_class_name = \"custom_selected\"\n",
    "\n",
    "soup.findAll(name=tag_name_tobe_searched, attrs={'class': annotator_class_name})"
   ]
  }
 ],
 "metadata": {
  "kernelspec": {
   "display_name": "Python 3",
   "language": "python",
   "name": "python3"
  },
  "language_info": {
   "codemirror_mode": {
    "name": "ipython",
    "version": 3
   },
   "file_extension": ".py",
   "mimetype": "text/x-python",
   "name": "python",
   "nbconvert_exporter": "python",
   "pygments_lexer": "ipython3",
   "version": "3.7.7"
  }
 },
 "nbformat": 4,
 "nbformat_minor": 2
}
