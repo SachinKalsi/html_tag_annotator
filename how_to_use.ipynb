{
 "cells": [
  {
   "cell_type": "code",
   "execution_count": 1,
   "metadata": {},
   "outputs": [],
   "source": [
    "import sqlite3\n",
    "import pandas as pd"
   ]
  },
  {
   "cell_type": "code",
   "execution_count": 2,
   "metadata": {},
   "outputs": [],
   "source": [
    "def get_sqlite_df(db_file_name):\n",
    "    conn = sqlite3.connect(db_file_name)\n",
    "    cur = conn.cursor()\n",
    "    get_query = \"select url, html, selected_contents, selected_contents_text from annotated_data\"\n",
    "    cur.execute(get_query)\n",
    "    data = cur.fetchall()\n",
    "    conn.close()\n",
    "    url_meta_df = pd.DataFrame(data, \n",
    "                           columns=['url', 'html', 'selected_contents', 'selected_contents_text'])\n",
    "\n",
    "    return url_meta_df\n"
   ]
  },
  {
   "cell_type": "code",
   "execution_count": 9,
   "metadata": {},
   "outputs": [
    {
     "data": {
      "text/plain": [
       "(1, 4)"
      ]
     },
     "execution_count": 9,
     "metadata": {},
     "output_type": "execute_result"
    }
   ],
   "source": [
    "db_file_name = \"/Users/kalsi/Documents/html_tag_annotator/flask_app/published_date_data.sqlite\"\n",
    "df = get_sqlite_df(db_file_name)\n",
    "df.shape"
   ]
  },
  {
   "cell_type": "code",
   "execution_count": null,
   "metadata": {},
   "outputs": [],
   "source": [
    "df.loc[0]['url']"
   ]
  },
  {
   "cell_type": "code",
   "execution_count": 11,
   "metadata": {},
   "outputs": [
    {
     "data": {
      "text/html": [
       "<div>\n",
       "<style scoped>\n",
       "    .dataframe tbody tr th:only-of-type {\n",
       "        vertical-align: middle;\n",
       "    }\n",
       "\n",
       "    .dataframe tbody tr th {\n",
       "        vertical-align: top;\n",
       "    }\n",
       "\n",
       "    .dataframe thead th {\n",
       "        text-align: right;\n",
       "    }\n",
       "</style>\n",
       "<table border=\"1\" class=\"dataframe\">\n",
       "  <thead>\n",
       "    <tr style=\"text-align: right;\">\n",
       "      <th></th>\n",
       "      <th>url</th>\n",
       "      <th>html</th>\n",
       "      <th>selected_contents</th>\n",
       "      <th>selected_contents_text</th>\n",
       "    </tr>\n",
       "  </thead>\n",
       "  <tbody>\n",
       "    <tr>\n",
       "      <th>0</th>\n",
       "      <td>https://www.thehindu.com/news/national/coronav...</td>\n",
       "      <td>&lt;html xmlns=\"http://www.w3.org/1999/xhtml\" xml...</td>\n",
       "      <td>&lt;none class=\" custom_selected\"&gt;\\nApril 25, 202...</td>\n",
       "      <td>APRIL 25, 2021 10:25 IST</td>\n",
       "    </tr>\n",
       "  </tbody>\n",
       "</table>\n",
       "</div>"
      ],
      "text/plain": [
       "                                                 url  \\\n",
       "0  https://www.thehindu.com/news/national/coronav...   \n",
       "\n",
       "                                                html  \\\n",
       "0  <html xmlns=\"http://www.w3.org/1999/xhtml\" xml...   \n",
       "\n",
       "                                   selected_contents    selected_contents_text  \n",
       "0  <none class=\" custom_selected\">\\nApril 25, 202...  APRIL 25, 2021 10:25 IST  "
      ]
     },
     "execution_count": 11,
     "metadata": {},
     "output_type": "execute_result"
    }
   ],
   "source": [
    "df.head()"
   ]
  },
  {
   "cell_type": "code",
   "execution_count": 12,
   "metadata": {},
   "outputs": [
    {
     "data": {
      "text/plain": [
       "'<none class=\" custom_selected\">\\nApril 25, 2021 10:25 IST\\n</none>'"
      ]
     },
     "execution_count": 12,
     "metadata": {},
     "output_type": "execute_result"
    }
   ],
   "source": [
    "df.loc[0]['selected_contents']"
   ]
  },
  {
   "cell_type": "code",
   "execution_count": 13,
   "metadata": {
    "scrolled": true
   },
   "outputs": [],
   "source": [
    "from bs4 import BeautifulSoup\n",
    "soup = BeautifulSoup(df.loc[0]['html'])"
   ]
  },
  {
   "cell_type": "code",
   "execution_count": null,
   "metadata": {},
   "outputs": [],
   "source": [
    "tag_name_tobe_searched = \"none\"\n",
    "annotator_class_name = \"custom_selected\"\n",
    "\n",
    "soup.findAll(name=tag_name_tobe_searched, attrs={'class': annotator_class_name})"
   ]
  }
 ],
 "metadata": {
  "kernelspec": {
   "display_name": "Python 3",
   "language": "python",
   "name": "python3"
  },
  "language_info": {
   "codemirror_mode": {
    "name": "ipython",
    "version": 3
   },
   "file_extension": ".py",
   "mimetype": "text/x-python",
   "name": "python",
   "nbconvert_exporter": "python",
   "pygments_lexer": "ipython3",
   "version": "3.7.7"
  }
 },
 "nbformat": 4,
 "nbformat_minor": 2
}
