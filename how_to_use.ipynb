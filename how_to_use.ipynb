{
 "cells": [
  {
   "cell_type": "code",
   "execution_count": 1,
   "source": [
    "import sqlite3\n",
    "import pandas as pd"
   ],
   "outputs": [],
   "metadata": {}
  },
  {
   "cell_type": "code",
   "execution_count": 2,
   "source": [
    "def get_sqlite_df(db_file_name):\n",
    "    conn = sqlite3.connect(db_file_name)\n",
    "    cur = conn.cursor()\n",
    "    get_query = \"select url, html, selected_contents, selected_contents_text from annotated_data\"\n",
    "    cur.execute(get_query)\n",
    "    data = cur.fetchall()\n",
    "    conn.close()\n",
    "    url_meta_df = pd.DataFrame(data, \n",
    "                           columns=['url', 'html', 'selected_contents', 'selected_contents_text'])\n",
    "\n",
    "    return url_meta_df\n"
   ],
   "outputs": [],
   "metadata": {}
  },
  {
   "cell_type": "code",
   "execution_count": 3,
   "source": [
    "db_file_name = \"/Users/kalsi/Documents/html_tag_annotator/flask_app/published_date_data.sqlite\"\n",
    "df = get_sqlite_df(db_file_name)\n",
    "df.shape"
   ],
   "outputs": [
    {
     "output_type": "execute_result",
     "data": {
      "text/plain": [
       "(1, 4)"
      ]
     },
     "metadata": {},
     "execution_count": 3
    }
   ],
   "metadata": {}
  },
  {
   "cell_type": "code",
   "execution_count": 4,
   "source": [
    "df.loc[0]['url']"
   ],
   "outputs": [
    {
     "output_type": "execute_result",
     "data": {
      "text/plain": [
       "'https://www.aljazeera.com/features/2021/4/25/why-does-india-have-so-many-covid-cases'"
      ]
     },
     "metadata": {},
     "execution_count": 4
    }
   ],
   "metadata": {}
  },
  {
   "cell_type": "code",
   "execution_count": 5,
   "source": [
    "df.head()"
   ],
   "outputs": [
    {
     "output_type": "execute_result",
     "data": {
      "text/plain": [
       "                                                 url  \\\n",
       "0  https://www.aljazeera.com/features/2021/4/25/w...   \n",
       "\n",
       "                                                html  \\\n",
       "0  <html lang=\"en\" dir=\"ltr\" class=\"theme-aje wf-...   \n",
       "\n",
       "                                   selected_contents selected_contents_text  \n",
       "0  <div class=\"date-simple custom_selected\">25 Ap...            25 Apr 2021  "
      ],
      "text/html": [
       "<div>\n",
       "<style scoped>\n",
       "    .dataframe tbody tr th:only-of-type {\n",
       "        vertical-align: middle;\n",
       "    }\n",
       "\n",
       "    .dataframe tbody tr th {\n",
       "        vertical-align: top;\n",
       "    }\n",
       "\n",
       "    .dataframe thead th {\n",
       "        text-align: right;\n",
       "    }\n",
       "</style>\n",
       "<table border=\"1\" class=\"dataframe\">\n",
       "  <thead>\n",
       "    <tr style=\"text-align: right;\">\n",
       "      <th></th>\n",
       "      <th>url</th>\n",
       "      <th>html</th>\n",
       "      <th>selected_contents</th>\n",
       "      <th>selected_contents_text</th>\n",
       "    </tr>\n",
       "  </thead>\n",
       "  <tbody>\n",
       "    <tr>\n",
       "      <th>0</th>\n",
       "      <td>https://www.aljazeera.com/features/2021/4/25/w...</td>\n",
       "      <td>&lt;html lang=\"en\" dir=\"ltr\" class=\"theme-aje wf-...</td>\n",
       "      <td>&lt;div class=\"date-simple custom_selected\"&gt;25 Ap...</td>\n",
       "      <td>25 Apr 2021</td>\n",
       "    </tr>\n",
       "  </tbody>\n",
       "</table>\n",
       "</div>"
      ]
     },
     "metadata": {},
     "execution_count": 5
    }
   ],
   "metadata": {}
  },
  {
   "cell_type": "code",
   "execution_count": 6,
   "source": [
    "df.loc[0]['selected_contents']"
   ],
   "outputs": [
    {
     "output_type": "execute_result",
     "data": {
      "text/plain": [
       "'<div class=\"date-simple custom_selected\">25 Apr 2021</div>'"
      ]
     },
     "metadata": {},
     "execution_count": 6
    }
   ],
   "metadata": {}
  },
  {
   "cell_type": "code",
   "execution_count": 7,
   "source": [
    "from bs4 import BeautifulSoup\n",
    "soup = BeautifulSoup(df.loc[0]['html'])"
   ],
   "outputs": [],
   "metadata": {
    "scrolled": true
   }
  },
  {
   "cell_type": "code",
   "execution_count": 8,
   "source": [
    "tag_name_tobe_searched = \"div\"\n",
    "annotator_class_name = \"custom_selected\"\n",
    "\n",
    "soup.findAll(name=tag_name_tobe_searched, attrs={'class': annotator_class_name})"
   ],
   "outputs": [
    {
     "output_type": "execute_result",
     "data": {
      "text/plain": [
       "[<div class=\"date-simple custom_selected\">25 Apr 2021</div>]"
      ]
     },
     "metadata": {},
     "execution_count": 8
    }
   ],
   "metadata": {}
  },
  {
   "cell_type": "code",
   "execution_count": null,
   "source": [
    "# uncomment this code to get the html contents\n",
    "# df['html'].loc[0]"
   ],
   "outputs": [],
   "metadata": {}
  }
 ],
 "metadata": {
  "kernelspec": {
   "display_name": "Python 3",
   "language": "python",
   "name": "python3"
  },
  "language_info": {
   "codemirror_mode": {
    "name": "ipython",
    "version": 3
   },
   "file_extension": ".py",
   "mimetype": "text/x-python",
   "name": "python",
   "nbconvert_exporter": "python",
   "pygments_lexer": "ipython3",
   "version": "3.7.7"
  }
 },
 "nbformat": 4,
 "nbformat_minor": 2
}